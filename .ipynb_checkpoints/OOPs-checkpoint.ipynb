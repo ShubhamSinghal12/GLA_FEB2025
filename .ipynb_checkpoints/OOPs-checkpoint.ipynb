{
 "cells": [
  {
   "cell_type": "markdown",
   "id": "3e7cd8b1-2df6-4897-9493-afbbb63d36c7",
   "metadata": {},
   "source": [
    "# Class\n",
    "- Class is a template/blueprint of the entity. It lays out all the attributes(characteristics) and behaviours(methods) the objects/instances of my class are going to have\n",
    "- Data Members and Functions\n",
    "- The init Method\n",
    "    - class constructor\n",
    "    - it is called implicitly whenever a class is called or a new object is created\n",
    "- No overloading\n",
    "- Everything in Python is an object\n",
    "    - Every data-type in python is an instance of object class.\n",
    "    - int, float, boolean, list, string, dictionary, functions\n",
    "    - isIntance()\n",
    "- Class Variables\n",
    "    - instance variables are for data unique for each instance\n",
    "    - class variables are for attributes and methods shared by all instances of the class\n",
    "    - Memory Management\n",
    "- Inheritance\n",
    "    - How\n",
    "    - super() in init()\n",
    "    - Method Overriding\n",
    "    - Memory Management\n",
    "- Dunders/Magic Methods\n",
    "    - Python provides us with special functions which are called implicitly while performing certain operations on an object. These are dunders\n",
    "    - They start and end with double underscore\n",
    "    - Commonly used for operator overloading\n",
    "    - A Few examples:\n",
    "        1. \\_\\_init__ is called when an object is created\n",
    "        2. \\_\\_len__ is called when calling len(obj)\n",
    "        3. \\_\\_str__ is called when we try to print an object\n",
    "        4. \\_\\_add__ is called when two objects are added together\n",
    "- Multiple Inheritance"
   ]
  },
  {
   "cell_type": "code",
   "execution_count": null,
   "id": "c948f7ca-5845-48c1-aea6-1fc7912beea9",
   "metadata": {},
   "outputs": [],
   "source": []
  },
  {
   "cell_type": "code",
   "execution_count": 20,
   "id": "f3be8a99-acbe-4c84-b0d6-84acc6a0a4a0",
   "metadata": {},
   "outputs": [],
   "source": [
    "class Person:\n",
    "\n",
    "    def __init__(self,name = 'xyz',age = 0):\n",
    "        self.name = name\n",
    "        self.age = age\n",
    "\n",
    "    # def sayHi(s):\n",
    "    #     print(s)\n",
    "    #     print(f\"{s.name} says Hi!\")\n",
    "\n",
    "    def sayHi(s,oth):\n",
    "        print(f\"{s.name} says hi to {oth}\")"
   ]
  },
  {
   "cell_type": "code",
   "execution_count": 21,
   "id": "ea4df49a-b46c-4699-907c-f39113bcf031",
   "metadata": {},
   "outputs": [],
   "source": [
    "p = Person(\"Shubham\",27)"
   ]
  },
  {
   "cell_type": "code",
   "execution_count": 48,
   "id": "cbca3c98-6e8a-4bdc-bccf-15d68bf630f8",
   "metadata": {},
   "outputs": [
    {
     "name": "stdout",
     "output_type": "stream",
     "text": [
      "<__main__.Person object at 0x0000022B3C547E90>\n"
     ]
    }
   ],
   "source": [
    "print(p)"
   ]
  },
  {
   "cell_type": "code",
   "execution_count": 29,
   "id": "40587bf8-d03a-47f3-8a52-01762bc4a1a9",
   "metadata": {},
   "outputs": [],
   "source": [
    "p.name = \"Shubham\"\n",
    "p.age = 27"
   ]
  },
  {
   "cell_type": "code",
   "execution_count": 38,
   "id": "c86ce87d-f899-41dc-b9b1-284cedde063e",
   "metadata": {},
   "outputs": [
    {
     "name": "stdout",
     "output_type": "stream",
     "text": [
      "Shubham 27\n"
     ]
    }
   ],
   "source": [
    "print(p.name,p.age)"
   ]
  },
  {
   "cell_type": "code",
   "execution_count": 22,
   "id": "5e193ab1-3e9d-41bc-a1f9-cd764184e98a",
   "metadata": {},
   "outputs": [
    {
     "name": "stdout",
     "output_type": "stream",
     "text": [
      "Shubham says hi to Shivani\n"
     ]
    }
   ],
   "source": [
    "p.sayHi(\"Shivani\")"
   ]
  },
  {
   "cell_type": "code",
   "execution_count": 50,
   "id": "184206fb-13dc-4bfe-8acc-b4cd3c2f6d79",
   "metadata": {},
   "outputs": [
    {
     "name": "stdout",
     "output_type": "stream",
     "text": [
      "<__main__.Person object at 0x0000022B3C547E90>\n",
      "Shubham says Hi!\n"
     ]
    }
   ],
   "source": [
    "Person.sayHi(p)"
   ]
  },
  {
   "cell_type": "code",
   "execution_count": 51,
   "id": "4ce22429-bd5e-47d0-9d3b-a09c77b81aac",
   "metadata": {},
   "outputs": [],
   "source": [
    "p2 = Person()"
   ]
  },
  {
   "cell_type": "code",
   "execution_count": 52,
   "id": "f16c194e-95b8-4802-ac74-c07aaa35d760",
   "metadata": {},
   "outputs": [
    {
     "name": "stdout",
     "output_type": "stream",
     "text": [
      "<__main__.Person object at 0x0000022B3C5470B0>\n",
      "xyz says Hi!\n"
     ]
    }
   ],
   "source": [
    "p2.sayHi()"
   ]
  },
  {
   "cell_type": "code",
   "execution_count": 59,
   "id": "e0c33413-5ba5-4226-93fe-b34f6375786b",
   "metadata": {},
   "outputs": [
    {
     "data": {
      "text/plain": [
       "False"
      ]
     },
     "execution_count": 59,
     "metadata": {},
     "output_type": "execute_result"
    }
   ],
   "source": [
    "a = 10\n",
    "isinstance(a,float)"
   ]
  },
  {
   "cell_type": "code",
   "execution_count": 60,
   "id": "f7e728d2-b185-46d8-9c5b-51eb6d18f658",
   "metadata": {},
   "outputs": [
    {
     "data": {
      "text/plain": [
       "__main__.Person"
      ]
     },
     "execution_count": 60,
     "metadata": {},
     "output_type": "execute_result"
    }
   ],
   "source": [
    "type(p)"
   ]
  },
  {
   "cell_type": "code",
   "execution_count": 61,
   "id": "a3c94214-39e3-4d80-881e-9cd19cd4ecbe",
   "metadata": {},
   "outputs": [
    {
     "data": {
      "text/plain": [
       "int"
      ]
     },
     "execution_count": 61,
     "metadata": {},
     "output_type": "execute_result"
    }
   ],
   "source": [
    "type(a)"
   ]
  },
  {
   "cell_type": "code",
   "execution_count": null,
   "id": "6851b178-98a0-46ff-b0e6-41adf4ce83d2",
   "metadata": {},
   "outputs": [],
   "source": []
  },
  {
   "cell_type": "code",
   "execution_count": null,
   "id": "1a8c02d2-ac4a-448e-8ca9-45f136f3ea3a",
   "metadata": {},
   "outputs": [],
   "source": []
  },
  {
   "cell_type": "code",
   "execution_count": null,
   "id": "da606f27-8150-4918-b15d-5738a4b6d8ec",
   "metadata": {},
   "outputs": [],
   "source": []
  },
  {
   "cell_type": "code",
   "execution_count": 68,
   "id": "828472ce-701f-43e3-87da-37d55d59a415",
   "metadata": {},
   "outputs": [],
   "source": [
    "class Dog:\n",
    "\n",
    "    legs = 4\n",
    "    tricks = []\n",
    "    \n",
    "    def __init__(self,name,breed):\n",
    "        self.name = name\n",
    "        self.breed = breed\n",
    "        \n",
    "\n",
    "    def bark(self,sound = \"bhow\"):\n",
    "        self.sound = sound\n",
    "        print(f\"{self.name} : {sound} {sound}\")"
   ]
  },
  {
   "cell_type": "code",
   "execution_count": 69,
   "id": "2fa3147e-0f25-467c-bae2-ed1fc898f37a",
   "metadata": {},
   "outputs": [],
   "source": [
    "d1 = Dog(\"Goofy\",\"Shitzu\")\n",
    "d2 = Dog(\"Candy\",\"German shephard\")"
   ]
  },
  {
   "cell_type": "code",
   "execution_count": 65,
   "id": "8ca98f41-ecf5-4061-99cd-67cace2940e0",
   "metadata": {},
   "outputs": [
    {
     "name": "stdout",
     "output_type": "stream",
     "text": [
      "3 4 4\n"
     ]
    }
   ],
   "source": [
    "d1.legs = 3\n",
    "print(d1.legs,d2.legs,Dog.legs)"
   ]
  },
  {
   "cell_type": "code",
   "execution_count": 67,
   "id": "09756de6-dad7-4c49-bb4a-14c73c25454d",
   "metadata": {},
   "outputs": [
    {
     "name": "stdout",
     "output_type": "stream",
     "text": [
      "['Sit', 'Handshake'] ['Jump'] ['Jump']\n"
     ]
    }
   ],
   "source": [
    "d1.tricks = [\"Sit\",\"Handshake\"]\n",
    "Dog.tricks.append(\"Jump\")\n",
    "print(d1.tricks,d2.tricks,Dog.tricks)"
   ]
  },
  {
   "cell_type": "code",
   "execution_count": null,
   "id": "2c9ec88f-a4e9-4f95-bd6f-85adb21c2b7b",
   "metadata": {},
   "outputs": [],
   "source": []
  },
  {
   "cell_type": "code",
   "execution_count": null,
   "id": "8d3697c7-2880-463d-84ae-5c51958e585a",
   "metadata": {},
   "outputs": [],
   "source": []
  },
  {
   "cell_type": "code",
   "execution_count": null,
   "id": "451fb2f5-c1c8-4e47-92e0-be204f17f6e0",
   "metadata": {},
   "outputs": [],
   "source": [
    "class Person:\n",
    "\n",
    "    def __init__(self,name = 'xyz',age = 0):\n",
    "        self.name = name\n",
    "        self.age = age\n",
    "\n",
    "    # def sayHi(s):\n",
    "    #     print(s)\n",
    "    #     print(f\"{s.name} says Hi!\")\n",
    "\n",
    "    def sayHi(s,oth):\n",
    "        print(f\"{s.name} says hi to {oth}\")"
   ]
  },
  {
   "cell_type": "code",
   "execution_count": 91,
   "id": "5f14c5bb-afbc-4818-b2c6-62a03453ae9a",
   "metadata": {},
   "outputs": [],
   "source": [
    "class Student(Person):\n",
    "\n",
    "    def __init__(self,name = \"xyz\",age = 0,rollno = 1):\n",
    "        # Person.__init__(self,name,age)\n",
    "        super().__init__(name,age)\n",
    "        self.rollno = rollno\n",
    "\n",
    "    def sayHi(s,oth):\n",
    "        print(f\"{s.name} says hi to {oth}. My rollno is: {s.rollno}\")"
   ]
  },
  {
   "cell_type": "code",
   "execution_count": 92,
   "id": "eefb8c38-c70e-4dc1-bc1c-5f0957b16efa",
   "metadata": {},
   "outputs": [],
   "source": [
    "s = Student(\"Shubham\",27)"
   ]
  },
  {
   "cell_type": "code",
   "execution_count": 93,
   "id": "3223a035-ff70-4585-a01b-039bf7e4f0ee",
   "metadata": {},
   "outputs": [
    {
     "name": "stdout",
     "output_type": "stream",
     "text": [
      "Shubham says hi to Shivam. My rollno is: 1\n"
     ]
    }
   ],
   "source": [
    "s.sayHi(\"Shivam\")"
   ]
  },
  {
   "cell_type": "code",
   "execution_count": 94,
   "id": "17a4be2f-5023-4b25-abe4-5925e38ec02c",
   "metadata": {},
   "outputs": [],
   "source": [
    "def talk(obj):\n",
    "    obj.sayHi()"
   ]
  },
  {
   "cell_type": "code",
   "execution_count": null,
   "id": "9c9bca90-e6fc-42df-b087-f53c12996522",
   "metadata": {},
   "outputs": [],
   "source": []
  },
  {
   "cell_type": "code",
   "execution_count": null,
   "id": "d98f8749-fa68-4ac1-af9d-4d88528ad996",
   "metadata": {},
   "outputs": [],
   "source": []
  },
  {
   "cell_type": "code",
   "execution_count": 9,
   "id": "c5d9e3d2-9400-4c1b-844b-471a5c3bef67",
   "metadata": {},
   "outputs": [],
   "source": [
    "class Car:\n",
    "\n",
    "    def __init__(self,brand,color,mileage):\n",
    "        self.brand = brand\n",
    "        self.color = color\n",
    "        self.mileage = mileage\n",
    "\n",
    "    def __add__(self,other):\n",
    "        return Car(self.brand,other.color,self.mileage+other.mileage)\n",
    "\n",
    "    def __len__(self):\n",
    "        return len(self.brand)+len(self.color)\n",
    "\n",
    "    def __str__(self):\n",
    "        return f\"brand: {self.brand},color: {self.color},mileage: {self.mileage}\""
   ]
  },
  {
   "cell_type": "code",
   "execution_count": 10,
   "id": "42a48e62-6060-457e-a609-c32222ed5170",
   "metadata": {},
   "outputs": [],
   "source": [
    "c1 = Car(\"Toyota\",\"White\",20)\n",
    "c2 = Car(\"Honda\",\"Black\",30)"
   ]
  },
  {
   "cell_type": "code",
   "execution_count": 11,
   "id": "da3bccde-15bf-4499-b9a5-ffe7fab9f5f3",
   "metadata": {},
   "outputs": [
    {
     "data": {
      "text/plain": [
       "30"
      ]
     },
     "execution_count": 11,
     "metadata": {},
     "output_type": "execute_result"
    }
   ],
   "source": [
    "a = 10\n",
    "b = 20\n",
    "a+b"
   ]
  },
  {
   "cell_type": "code",
   "execution_count": 12,
   "id": "ace91725-e123-4f01-ab5d-1e8aabe6dbd0",
   "metadata": {},
   "outputs": [
    {
     "data": {
      "text/plain": [
       "[1, 2, 3, 4, 5, 6]"
      ]
     },
     "execution_count": 12,
     "metadata": {},
     "output_type": "execute_result"
    }
   ],
   "source": [
    "l1 = [1,2,3]\n",
    "l2 = [4,5,6]\n",
    "l1+l2"
   ]
  },
  {
   "cell_type": "code",
   "execution_count": 13,
   "id": "d293868d-00ee-4c79-afe4-7a91e5602826",
   "metadata": {},
   "outputs": [
    {
     "name": "stdout",
     "output_type": "stream",
     "text": [
      "Toyota Black 50\n"
     ]
    }
   ],
   "source": [
    "c3 = c1+c2\n",
    "print(c3.brand,c3.color,c3.mileage)"
   ]
  },
  {
   "cell_type": "code",
   "execution_count": null,
   "id": "f5f916b4-a26a-45d2-9161-61c8867e3d00",
   "metadata": {},
   "outputs": [],
   "source": []
  },
  {
   "cell_type": "code",
   "execution_count": 14,
   "id": "5d881ec6-5a0a-4469-9bc2-d3df6a77e1ed",
   "metadata": {},
   "outputs": [
    {
     "data": {
      "text/plain": [
       "3"
      ]
     },
     "execution_count": 14,
     "metadata": {},
     "output_type": "execute_result"
    }
   ],
   "source": [
    "len(l1)"
   ]
  },
  {
   "cell_type": "code",
   "execution_count": 15,
   "id": "3d916839-fa63-41fb-88e6-c3c7ecf751da",
   "metadata": {},
   "outputs": [
    {
     "data": {
      "text/plain": [
       "11"
      ]
     },
     "execution_count": 15,
     "metadata": {},
     "output_type": "execute_result"
    }
   ],
   "source": [
    "len(c1)"
   ]
  },
  {
   "cell_type": "code",
   "execution_count": 16,
   "id": "11c1623d-9194-4c96-ae20-fe3677f4dfaa",
   "metadata": {},
   "outputs": [
    {
     "name": "stdout",
     "output_type": "stream",
     "text": [
      "brand: Toyota,color: White,mileage: 20\n"
     ]
    }
   ],
   "source": [
    "print(c1)"
   ]
  },
  {
   "cell_type": "code",
   "execution_count": 17,
   "id": "e128cba6-9888-4e76-9815-7001dbe036df",
   "metadata": {},
   "outputs": [
    {
     "name": "stdout",
     "output_type": "stream",
     "text": [
      "brand: Honda,color: Black,mileage: 30\n"
     ]
    }
   ],
   "source": [
    "print(c2)"
   ]
  },
  {
   "cell_type": "code",
   "execution_count": 18,
   "id": "9edb9d4a-2f0d-47fa-88c0-132751be398d",
   "metadata": {},
   "outputs": [
    {
     "data": {
      "text/plain": [
       "['__add__',\n",
       " '__class__',\n",
       " '__delattr__',\n",
       " '__dict__',\n",
       " '__dir__',\n",
       " '__doc__',\n",
       " '__eq__',\n",
       " '__format__',\n",
       " '__ge__',\n",
       " '__getattribute__',\n",
       " '__getstate__',\n",
       " '__gt__',\n",
       " '__hash__',\n",
       " '__init__',\n",
       " '__init_subclass__',\n",
       " '__le__',\n",
       " '__len__',\n",
       " '__lt__',\n",
       " '__module__',\n",
       " '__ne__',\n",
       " '__new__',\n",
       " '__reduce__',\n",
       " '__reduce_ex__',\n",
       " '__repr__',\n",
       " '__setattr__',\n",
       " '__sizeof__',\n",
       " '__str__',\n",
       " '__subclasshook__',\n",
       " '__weakref__',\n",
       " 'brand',\n",
       " 'color',\n",
       " 'mileage']"
      ]
     },
     "execution_count": 18,
     "metadata": {},
     "output_type": "execute_result"
    }
   ],
   "source": [
    "dir(c1)"
   ]
  },
  {
   "cell_type": "code",
   "execution_count": 19,
   "id": "e745e810-efb4-4211-b96b-431e530e7d84",
   "metadata": {},
   "outputs": [],
   "source": [
    "class A:\n",
    "    pass\n",
    "class B:\n",
    "    pass\n",
    "class C:\n",
    "    pass\n",
    "class D:\n",
    "    pass"
   ]
  },
  {
   "cell_type": "code",
   "execution_count": 127,
   "id": "75a98a51-4a6d-4a14-891f-dd27866bf314",
   "metadata": {},
   "outputs": [],
   "source": [
    "class A:\n",
    "    pass\n",
    "class B(A):\n",
    "    pass\n",
    "class C(B):\n",
    "    pass\n",
    "class D(C):\n",
    "    pass"
   ]
  },
  {
   "cell_type": "code",
   "execution_count": 128,
   "id": "d683d15f-7048-463d-adea-c10f0f88912b",
   "metadata": {},
   "outputs": [],
   "source": [
    "class A:\n",
    "    pass\n",
    "class B(A):\n",
    "    pass\n",
    "class C(A):\n",
    "    pass\n",
    "class D:\n",
    "    pass"
   ]
  },
  {
   "cell_type": "code",
   "execution_count": 129,
   "id": "9d0ca7de-403f-4c05-8a89-f1f3d3f30078",
   "metadata": {},
   "outputs": [],
   "source": [
    "class A:\n",
    "    pass\n",
    "class B:\n",
    "    pass\n",
    "class C(A,B):\n",
    "    pass\n",
    "class D:\n",
    "    pass"
   ]
  },
  {
   "cell_type": "code",
   "execution_count": 134,
   "id": "32007573-e8e1-4320-a203-e1cf4fdd8873",
   "metadata": {},
   "outputs": [],
   "source": [
    "class A:\n",
    "    pass\n",
    "class B(A):\n",
    "    pass\n",
    "class C(A):\n",
    "    pass\n",
    "class D(B,C):\n",
    "    pass"
   ]
  },
  {
   "cell_type": "code",
   "execution_count": 135,
   "id": "2f0ebb98-0639-4f40-917c-43859903d924",
   "metadata": {},
   "outputs": [
    {
     "data": {
      "text/plain": [
       "(__main__.D, __main__.B, __main__.C, __main__.A, object)"
      ]
     },
     "execution_count": 135,
     "metadata": {},
     "output_type": "execute_result"
    }
   ],
   "source": [
    "D.__mro__"
   ]
  },
  {
   "cell_type": "code",
   "execution_count": null,
   "id": "26c94338-63e1-470e-9f12-626418ce2d5f",
   "metadata": {},
   "outputs": [],
   "source": []
  },
  {
   "cell_type": "code",
   "execution_count": null,
   "id": "92807de4-86b0-4840-b86e-f6cd4501bcd6",
   "metadata": {},
   "outputs": [],
   "source": []
  },
  {
   "cell_type": "code",
   "execution_count": null,
   "id": "d2059508-43cc-414b-a9ab-032a5d382438",
   "metadata": {},
   "outputs": [],
   "source": []
  }
 ],
 "metadata": {
  "kernelspec": {
   "display_name": "Python 3 (ipykernel)",
   "language": "python",
   "name": "python3"
  },
  "language_info": {
   "codemirror_mode": {
    "name": "ipython",
    "version": 3
   },
   "file_extension": ".py",
   "mimetype": "text/x-python",
   "name": "python",
   "nbconvert_exporter": "python",
   "pygments_lexer": "ipython3",
   "version": "3.12.8"
  }
 },
 "nbformat": 4,
 "nbformat_minor": 5
}
