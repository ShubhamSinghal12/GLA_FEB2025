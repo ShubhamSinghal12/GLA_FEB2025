{
 "cells": [
  {
   "cell_type": "markdown",
   "id": "01fe4731-4a29-45bd-af3c-d758bfc8df10",
   "metadata": {},
   "source": [
    "<h2>Variables</h2>\n",
    "<ul>\n",
    "    <li>KeyWords vs Identifier</li>\n",
    "    <li>Comments</li>\n",
    "    <li>Single Line vs Multiple Line</li>\n",
    "    <li>Multiple assignments</li>\n",
    "    <li>How do we Store a Variable it in the memory?</li>\n",
    "    <li>print</li>\n",
    "    <li>type and id</li>\n",
    "</ul>"
   ]
  },
  {
   "cell_type": "code",
   "execution_count": 3,
   "id": "b2b32d72-7e36-4c9b-88f1-8e14c98b1578",
   "metadata": {},
   "outputs": [
    {
     "name": "stdout",
     "output_type": "stream",
     "text": [
      "['False', 'None', 'True', 'and', 'as', 'assert', 'async', 'await', 'break', 'class', 'continue', 'def', 'del', 'elif', 'else', 'except', 'finally', 'for', 'from', 'global', 'if', 'import', 'in', 'is', 'lambda', 'nonlocal', 'not', 'or', 'pass', 'raise', 'return', 'try', 'while', 'with', 'yield'] 35\n"
     ]
    }
   ],
   "source": [
    "import keyword\n",
    "print(keyword.kwlist,len(keyword.kwlist))"
   ]
  },
  {
   "cell_type": "code",
   "execution_count": 3,
   "id": "4a44c6c0-2b11-4340-8ab3-e89c553d9ef6",
   "metadata": {},
   "outputs": [
    {
     "name": "stdout",
     "output_type": "stream",
     "text": [
      "10 20.5 True Hello World\n"
     ]
    }
   ],
   "source": [
    "a = 10\n",
    "b = 20.5\n",
    "c = True\n",
    "s = 'Hello World'\n",
    "print(a,b,c,s)"
   ]
  },
  {
   "cell_type": "code",
   "execution_count": 11,
   "id": "d2da9743-e887-46d6-b6e0-90f0c62fc484",
   "metadata": {},
   "outputs": [
    {
     "name": "stdout",
     "output_type": "stream",
     "text": [
      "100\n"
     ]
    }
   ],
   "source": [
    "# d = 100\n",
    "\n",
    "''' This is a \n",
    "Multiple Line \n",
    "Comment'''\n",
    "\n",
    "print(d)"
   ]
  },
  {
   "cell_type": "code",
   "execution_count": 10,
   "id": "80bf6fdd-4a6f-4581-a2aa-d2266f5afee3",
   "metadata": {},
   "outputs": [
    {
     "name": "stdout",
     "output_type": "stream",
     "text": [
      "10000\n"
     ]
    }
   ],
   "source": [
    "# d = 10\n",
    "print(t)"
   ]
  },
  {
   "cell_type": "code",
   "execution_count": 14,
   "id": "2da0426c-4f5d-444c-97a1-3595d9eda798",
   "metadata": {},
   "outputs": [
    {
     "name": "stdout",
     "output_type": "stream",
     "text": [
      "8\n"
     ]
    }
   ],
   "source": [
    "a = 1 + 3 + \\\n",
    "    4\n",
    "print(a)"
   ]
  },
  {
   "cell_type": "code",
   "execution_count": 16,
   "id": "b1720a25-30dc-4165-85c3-af23ab731e26",
   "metadata": {},
   "outputs": [
    {
     "name": "stdout",
     "output_type": "stream",
     "text": [
      "10,20\n"
     ]
    }
   ],
   "source": [
    "a,b = 10,20\n",
    "print(a,b,sep = ',')"
   ]
  },
  {
   "cell_type": "code",
   "execution_count": 22,
   "id": "5c395892-582e-4774-adaf-c530d0e8bc5d",
   "metadata": {},
   "outputs": [
    {
     "name": "stdout",
     "output_type": "stream",
     "text": [
      "10x20\n"
     ]
    }
   ],
   "source": [
    "print(10,end = 'x')\n",
    "print(20)"
   ]
  },
  {
   "cell_type": "code",
   "execution_count": 20,
   "id": "5fa969e2-3b09-49d5-95f2-96416ce48ed0",
   "metadata": {},
   "outputs": [
    {
     "name": "stdout",
     "output_type": "stream",
     "text": [
      "10 20\n"
     ]
    }
   ],
   "source": [
    "print(a,b)"
   ]
  },
  {
   "cell_type": "code",
   "execution_count": 25,
   "id": "9f9dcfc9-df74-42f1-87a6-4389f2461762",
   "metadata": {},
   "outputs": [
    {
     "name": "stdout",
     "output_type": "stream",
     "text": [
      "<class 'str'>\n"
     ]
    }
   ],
   "source": [
    "print(type(s))"
   ]
  },
  {
   "cell_type": "code",
   "execution_count": 26,
   "id": "fd4d5c88-affb-4b64-be53-cafcbae1b470",
   "metadata": {},
   "outputs": [
    {
     "data": {
      "text/plain": [
       "140730087107288"
      ]
     },
     "execution_count": 26,
     "metadata": {},
     "output_type": "execute_result"
    }
   ],
   "source": [
    "id(a)"
   ]
  },
  {
   "cell_type": "markdown",
   "id": "c58b015f-95c6-4d4f-adb0-90bd8701d2b0",
   "metadata": {},
   "source": [
    "<h2>Data Types</h2>\n",
    "<table border=\"1\">\n",
    "<tbody>\n",
    "<tr><td>Text Type:</td><td>str</td></tr>\n",
    "<tr><td>Numeric Types:</td><td>int, float, complex</td></tr>\n",
    "<tr><td>Sequence Types:</td><td>list, tuple, range</td></tr>\n",
    "<tr><td>Mapping Type:</td><td>dict</td></tr>\n",
    "<tr><td>Set Types:</td><td>set, frozenset</td></tr>\n",
    "<tr><td>Boolean Type:</td><td>bool</td></tr>\n",
    "<tr><td>Binary Types:</td><td>bytes, bytearray, memoryview</td></tr>\n",
    "<tr><td>None Type:</td><td>NoneType</td></tr>\n",
    "</tbody>\n",
    "</table>\n",
    "Type Conversion"
   ]
  },
  {
   "cell_type": "code",
   "execution_count": 29,
   "id": "d3045a9f-d5dd-4567-a240-1bb6518a59bf",
   "metadata": {},
   "outputs": [
    {
     "name": "stdout",
     "output_type": "stream",
     "text": [
      "<class 'complex'>\n"
     ]
    }
   ],
   "source": [
    "a = 10\n",
    "b = 10.5\n",
    "c = 3+4j\n",
    "print(type(c))"
   ]
  },
  {
   "cell_type": "code",
   "execution_count": 31,
   "id": "7e40725a-68f5-45ae-b36a-1ef36e9adc4b",
   "metadata": {},
   "outputs": [
    {
     "name": "stdout",
     "output_type": "stream",
     "text": [
      "<class 'NoneType'>\n"
     ]
    }
   ],
   "source": [
    "bo = None\n",
    "print(type(bo))"
   ]
  },
  {
   "cell_type": "code",
   "execution_count": 32,
   "id": "b63a2ebf-22cc-4cf6-be24-de8264b45779",
   "metadata": {},
   "outputs": [
    {
     "name": "stdout",
     "output_type": "stream",
     "text": [
      "20\n"
     ]
    }
   ],
   "source": [
    "f = 20.5\n",
    "i = int(f)\n",
    "print(i)"
   ]
  },
  {
   "cell_type": "code",
   "execution_count": 35,
   "id": "9ea37c43-1586-4799-82e7-67b68b8daa9e",
   "metadata": {},
   "outputs": [
    {
     "name": "stdout",
     "output_type": "stream",
     "text": [
      "266\n"
     ]
    }
   ],
   "source": [
    "s = '10a'\n",
    "i = int(s,base=16)\n",
    "print(i)"
   ]
  },
  {
   "cell_type": "code",
   "execution_count": 36,
   "id": "6d00ca81-1f9e-4423-84ea-4a7aece771a6",
   "metadata": {},
   "outputs": [
    {
     "data": {
      "text/plain": [
       "97"
      ]
     },
     "execution_count": 36,
     "metadata": {},
     "output_type": "execute_result"
    }
   ],
   "source": [
    "ord('a')"
   ]
  },
  {
   "cell_type": "code",
   "execution_count": 37,
   "id": "fb7ba235-0f0e-48d4-8714-906fbdae89df",
   "metadata": {},
   "outputs": [
    {
     "data": {
      "text/plain": [
       "'a'"
      ]
     },
     "execution_count": 37,
     "metadata": {},
     "output_type": "execute_result"
    }
   ],
   "source": [
    "chr(97)"
   ]
  },
  {
   "cell_type": "code",
   "execution_count": null,
   "id": "826db0ef-5da9-4f96-9b69-69c5e087f2da",
   "metadata": {},
   "outputs": [],
   "source": []
  },
  {
   "cell_type": "markdown",
   "id": "34e1a4d4-ca3d-4f7b-b044-c5d3e64b8f19",
   "metadata": {},
   "source": [
    "<h2>Operators</h2>\n",
    "Types of Operators\n",
    "\n",
    "- Airthmetic: +, -, *, /, %, //, **\n",
    "- relational: ==, <=, <, >=, >, !=\n",
    "- logical: and, or, not\n",
    "- Bitwise: &, |, ~, ^, <<, >>\n",
    "- Assignment: =, +=, -= ...\n",
    "- Special: is, is not, in, not in"
   ]
  },
  {
   "cell_type": "code",
   "execution_count": 61,
   "id": "e5f7ec75-039e-453e-b1f4-6e9919fd82b1",
   "metadata": {},
   "outputs": [
    {
     "data": {
      "text/plain": [
       "True"
      ]
     },
     "execution_count": 61,
     "metadata": {},
     "output_type": "execute_result"
    }
   ],
   "source": [
    "a = 1000\n",
    "b = 1000\n",
    "# id(a) == id(b)\n",
    "a is not b"
   ]
  },
  {
   "cell_type": "code",
   "execution_count": 44,
   "id": "a024e8d1-cb20-4d3f-88b7-052e8d7893c5",
   "metadata": {},
   "outputs": [
    {
     "name": "stdout",
     "output_type": "stream",
     "text": [
      "1000\n"
     ]
    }
   ],
   "source": [
    "a = 10\n",
    "b = 3\n",
    "print(a**b)"
   ]
  },
  {
   "cell_type": "code",
   "execution_count": 49,
   "id": "9b6e6613-9544-46e5-9b0b-a8c0c466a149",
   "metadata": {},
   "outputs": [
    {
     "name": "stdout",
     "output_type": "stream",
     "text": [
      "False\n"
     ]
    }
   ],
   "source": [
    "c = a <= b\n",
    "d = a >= b\n",
    "print(c)"
   ]
  },
  {
   "cell_type": "code",
   "execution_count": 53,
   "id": "601a3568-aeb5-49af-a5c8-fd945c73cd7d",
   "metadata": {},
   "outputs": [
    {
     "data": {
      "text/plain": [
       "True"
      ]
     },
     "execution_count": 53,
     "metadata": {},
     "output_type": "execute_result"
    }
   ],
   "source": [
    "a <= b or a >= b"
   ]
  },
  {
   "cell_type": "code",
   "execution_count": 52,
   "id": "548e9918-0c0f-4d13-800b-9150d51f15e1",
   "metadata": {},
   "outputs": [
    {
     "data": {
      "text/plain": [
       "True"
      ]
     },
     "execution_count": 52,
     "metadata": {},
     "output_type": "execute_result"
    }
   ],
   "source": [
    "not c"
   ]
  },
  {
   "cell_type": "code",
   "execution_count": 55,
   "id": "28eece38-59b9-4f01-a5b8-ded022412e5c",
   "metadata": {},
   "outputs": [
    {
     "ename": "NameError",
     "evalue": "name 'm' is not defined",
     "output_type": "error",
     "traceback": [
      "\u001b[1;31m---------------------------------------------------------------------------\u001b[0m",
      "\u001b[1;31mNameError\u001b[0m                                 Traceback (most recent call last)",
      "Cell \u001b[1;32mIn[55], line 1\u001b[0m\n\u001b[1;32m----> 1\u001b[0m \u001b[43mm\u001b[49m \u001b[38;5;241m+\u001b[39m\u001b[38;5;241m=\u001b[39m b\n",
      "\u001b[1;31mNameError\u001b[0m: name 'm' is not defined"
     ]
    }
   ],
   "source": [
    "m += b"
   ]
  },
  {
   "cell_type": "code",
   "execution_count": 64,
   "id": "0103d3e9-926f-491d-9c4f-6ca2e0bc1fcb",
   "metadata": {},
   "outputs": [
    {
     "data": {
      "text/plain": [
       "True"
      ]
     },
     "execution_count": 64,
     "metadata": {},
     "output_type": "execute_result"
    }
   ],
   "source": [
    "l = [1,2,3,4]\n",
    "a = 20\n",
    "a not in l"
   ]
  },
  {
   "cell_type": "code",
   "execution_count": 66,
   "id": "3a9aacff-2c97-4923-9706-dc86a62c999e",
   "metadata": {},
   "outputs": [
    {
     "data": {
      "text/plain": [
       "False"
      ]
     },
     "execution_count": 66,
     "metadata": {},
     "output_type": "execute_result"
    }
   ],
   "source": [
    "s = 'Hello'\n",
    "a = 'Hl'\n",
    "a in s"
   ]
  },
  {
   "cell_type": "markdown",
   "id": "7afc26b1-9f67-4319-999f-354c1fa792d8",
   "metadata": {},
   "source": [
    "## IfElse\n",
    "- if .. else\n",
    "- if .. elif .... else\n",
    "- Nested if\n",
    "\n",
    "Indentation\n",
    "Input from user"
   ]
  },
  {
   "cell_type": "code",
   "execution_count": 76,
   "id": "f9d31b79-799d-4700-8779-631439226207",
   "metadata": {},
   "outputs": [
    {
     "name": "stdout",
     "output_type": "stream",
     "text": [
      "Hello\n",
      "a is equal to b\n",
      "bye\n"
     ]
    }
   ],
   "source": [
    "a = 20\n",
    "b = 20\n",
    "\n",
    "print(\"Hello\")\n",
    "if a < b:\n",
    "  print(\"a is less than b\")\n",
    "  print(a,b)\n",
    "elif a > b:\n",
    "    print(\"a is greater than b\")\n",
    "else:\n",
    "    print('a is equal to b')\n",
    "\n",
    "print('bye')"
   ]
  },
  {
   "cell_type": "code",
   "execution_count": 83,
   "id": "716df7f5-4064-4119-8784-0a339276f68d",
   "metadata": {},
   "outputs": [
    {
     "name": "stdin",
     "output_type": "stream",
     "text": [
      "Enter your Marks: 80\n"
     ]
    },
    {
     "name": "stdout",
     "output_type": "stream",
     "text": [
      "A\n"
     ]
    }
   ],
   "source": [
    "marks = int(input(\"Enter your Marks:\"))\n",
    "\n",
    "if 80 <= marks <= 100:\n",
    "    print(\"A\")\n",
    "elif 60 <= marks < 80:\n",
    "    print(\"B\")\n",
    "elif 40 <= marks < 60:\n",
    "    print(\"C\")\n",
    "elif 0 <= marks < 40:\n",
    "    print(\"F\")\n",
    "else:\n",
    "    print(\"Invalid\")"
   ]
  },
  {
   "cell_type": "code",
   "execution_count": 82,
   "id": "ca53ed7e-248c-473e-a8bd-3197d7e556f8",
   "metadata": {},
   "outputs": [
    {
     "name": "stdin",
     "output_type": "stream",
     "text": [
      " 10\n"
     ]
    },
    {
     "name": "stdout",
     "output_type": "stream",
     "text": [
      "<class 'int'> 10\n"
     ]
    }
   ],
   "source": [
    "marks = int(input())\n",
    "print(type(marks),marks)"
   ]
  },
  {
   "cell_type": "code",
   "execution_count": null,
   "id": "01b3cfd4-17af-4d6d-9c78-de91d44b3a82",
   "metadata": {},
   "outputs": [],
   "source": []
  },
  {
   "cell_type": "code",
   "execution_count": null,
   "id": "9ca8b97b-42b9-465a-8ec9-0fe29084e56e",
   "metadata": {},
   "outputs": [],
   "source": []
  },
  {
   "cell_type": "markdown",
   "id": "6351886b-88f0-4838-bd27-bf19093b3e8b",
   "metadata": {},
   "source": [
    "## Ternary Operator\n",
    "Syntax:\\\n",
    "First_val if condn else second_val"
   ]
  },
  {
   "cell_type": "code",
   "execution_count": 79,
   "id": "43b2ab41-e550-459a-8bc3-d6e3243638c7",
   "metadata": {},
   "outputs": [
    {
     "data": {
      "text/plain": [
       "20"
      ]
     },
     "execution_count": 79,
     "metadata": {},
     "output_type": "execute_result"
    }
   ],
   "source": [
    "a = 10\n",
    "b = 20\n",
    "c = a if a>b else b\n",
    "c"
   ]
  },
  {
   "cell_type": "code",
   "execution_count": null,
   "id": "3ebd771a-b467-4c52-bd18-ded462a0ca88",
   "metadata": {},
   "outputs": [],
   "source": []
  },
  {
   "cell_type": "markdown",
   "id": "0586085a-a56c-4578-8e8a-c8eee3622b8c",
   "metadata": {},
   "source": [
    "## while loop\n",
    "\n",
    "To iterate over a block of code as long as the test expression is true.\\\n",
    "**Syntax:**\\\n",
    "while testExp:\\\n",
    "Body\\\n",
    "else:\\\n",
    "After testExp is false"
   ]
  },
  {
   "cell_type": "code",
   "execution_count": 86,
   "id": "bd4c13fb-4b36-4a5e-bbcd-8241975f0fbb",
   "metadata": {
    "scrolled": true
   },
   "outputs": [
    {
     "name": "stdout",
     "output_type": "stream",
     "text": [
      "Hello World\n",
      "Hello World\n",
      "Hello World\n",
      "Hello World\n",
      "Hello World\n",
      "Bye\n"
     ]
    }
   ],
   "source": [
    "i = 1\n",
    "while i <= 5:\n",
    "    print(\"Hello World\")\n",
    "    i += 1\n",
    "print(\"Bye\")"
   ]
  },
  {
   "cell_type": "code",
   "execution_count": 87,
   "id": "15a9b37e-08ca-4b2d-9da9-f42866ce1ac3",
   "metadata": {},
   "outputs": [
    {
     "name": "stdin",
     "output_type": "stream",
     "text": [
      " 10\n"
     ]
    },
    {
     "name": "stdout",
     "output_type": "stream",
     "text": [
      "55\n"
     ]
    }
   ],
   "source": [
    "i = 1\n",
    "s = 0\n",
    "n = int(input())\n",
    "while i <= n:\n",
    "    s += i\n",
    "    i += 1\n",
    "print(s)"
   ]
  },
  {
   "cell_type": "code",
   "execution_count": 97,
   "id": "50159f64-2b03-4ff9-9492-ca8ed0344245",
   "metadata": {},
   "outputs": [
    {
     "name": "stdin",
     "output_type": "stream",
     "text": [
      " 17\n"
     ]
    },
    {
     "name": "stdout",
     "output_type": "stream",
     "text": [
      "Prime\n"
     ]
    }
   ],
   "source": [
    "i = 2\n",
    "c = 0\n",
    "n = int(input())\n",
    "while i*i <= n:\n",
    "    if n%i == 0:\n",
    "        c = 1\n",
    "        break\n",
    "    i += 1\n",
    "    \n",
    "if c == 0:\n",
    "    print(\"Prime\")\n",
    "else:\n",
    "    print(\"Not Prime\")"
   ]
  },
  {
   "cell_type": "code",
   "execution_count": 8,
   "id": "ffd3c67f-ee91-498a-b6e1-6c9e64108574",
   "metadata": {},
   "outputs": [
    {
     "name": "stdin",
     "output_type": "stream",
     "text": [
      " 10 20\n"
     ]
    }
   ],
   "source": [
    "a,b = input().split()\n",
    "a = int(a)\n",
    "b = int(b)"
   ]
  },
  {
   "cell_type": "code",
   "execution_count": 10,
   "id": "69b8ff32-008a-41f5-852e-bf91b0a72e6a",
   "metadata": {},
   "outputs": [
    {
     "name": "stdout",
     "output_type": "stream",
     "text": [
      "10\n",
      "20\n"
     ]
    }
   ],
   "source": [
    "print(a)\n",
    "print(b)"
   ]
  },
  {
   "cell_type": "code",
   "execution_count": null,
   "id": "78e3d49d-6abf-4deb-a4e1-d7ef6e9ecfc6",
   "metadata": {},
   "outputs": [],
   "source": []
  },
  {
   "cell_type": "code",
   "execution_count": 12,
   "id": "86e4a3d6-015a-4163-9d66-ec0bcbcec6e0",
   "metadata": {},
   "outputs": [
    {
     "name": "stdin",
     "output_type": "stream",
     "text": [
      " 100\n"
     ]
    },
    {
     "name": "stdout",
     "output_type": "stream",
     "text": [
      "2 3 5 7 11 13 17 19 23 29 31 37 41 43 47 53 59 61 67 71 73 79 83 89 97 \n"
     ]
    }
   ],
   "source": [
    "N = int(input())\n",
    "\n",
    "n = 2\n",
    "while n <= N:\n",
    "    i = 2\n",
    "    c = 0\n",
    "    while i*i <= n:\n",
    "        if n%i == 0:\n",
    "            c = 1\n",
    "            break\n",
    "        i += 1\n",
    "        \n",
    "    if c == 0:\n",
    "        print(n,end = ' ')\n",
    "    n += 1\n",
    "print()\n",
    "\n",
    "        "
   ]
  },
  {
   "cell_type": "code",
   "execution_count": null,
   "id": "194f7265-7aeb-44d3-91c7-e5616d4d2f91",
   "metadata": {},
   "outputs": [],
   "source": []
  },
  {
   "cell_type": "code",
   "execution_count": 24,
   "id": "ebfa0423-c2f4-4a0d-bb04-7e89d7381051",
   "metadata": {
    "scrolled": true
   },
   "outputs": [
    {
     "name": "stdout",
     "output_type": "stream",
     "text": [
      "2 : Prime\n",
      "3 : Prime\n",
      "4 : Not Prime\n",
      "5 : Prime\n",
      "6 : Not Prime\n",
      "7 : Prime\n",
      "8 : Not Prime\n",
      "9 : Not Prime\n",
      "10 : Not Prime\n",
      "11 : Prime\n",
      "12 : Not Prime\n",
      "13 : Prime\n",
      "14 : Not Prime\n",
      "15 : Not Prime\n",
      "16 : Not Prime\n",
      "17 : Prime\n",
      "18 : Not Prime\n",
      "19 : Prime\n",
      "20 : Not Prime\n",
      "21 : Not Prime\n",
      "22 : Not Prime\n",
      "23 : Prime\n",
      "24 : Not Prime\n",
      "25 : Not Prime\n",
      "26 : Not Prime\n",
      "27 : Not Prime\n",
      "28 : Not Prime\n",
      "29 : Prime\n",
      "30 : Not Prime\n",
      "31 : Prime\n",
      "32 : Not Prime\n",
      "33 : Not Prime\n",
      "34 : Not Prime\n",
      "35 : Not Prime\n",
      "36 : Not Prime\n",
      "37 : Prime\n",
      "38 : Not Prime\n",
      "39 : Not Prime\n",
      "40 : Not Prime\n",
      "41 : Prime\n",
      "42 : Not Prime\n",
      "43 : Prime\n",
      "44 : Not Prime\n",
      "45 : Not Prime\n",
      "46 : Not Prime\n",
      "47 : Prime\n",
      "48 : Not Prime\n",
      "49 : Not Prime\n",
      "50 : Not Prime\n",
      "51 : Not Prime\n",
      "52 : Not Prime\n",
      "53 : Prime\n",
      "54 : Not Prime\n",
      "55 : Not Prime\n",
      "56 : Not Prime\n",
      "57 : Not Prime\n",
      "58 : Not Prime\n",
      "59 : Prime\n",
      "60 : Not Prime\n",
      "61 : Prime\n",
      "62 : Not Prime\n",
      "63 : Not Prime\n",
      "64 : Not Prime\n",
      "65 : Not Prime\n",
      "66 : Not Prime\n",
      "67 : Prime\n",
      "68 : Not Prime\n",
      "69 : Not Prime\n",
      "70 : Not Prime\n",
      "71 : Prime\n",
      "72 : Not Prime\n",
      "73 : Prime\n",
      "74 : Not Prime\n",
      "75 : Not Prime\n",
      "76 : Not Prime\n",
      "77 : Not Prime\n",
      "78 : Not Prime\n",
      "79 : Prime\n",
      "80 : Not Prime\n",
      "81 : Not Prime\n",
      "82 : Not Prime\n",
      "83 : Prime\n",
      "84 : Not Prime\n",
      "85 : Not Prime\n",
      "86 : Not Prime\n",
      "87 : Not Prime\n",
      "88 : Not Prime\n",
      "89 : Prime\n",
      "90 : Not Prime\n",
      "91 : Not Prime\n",
      "92 : Not Prime\n",
      "93 : Not Prime\n",
      "94 : Not Prime\n",
      "95 : Not Prime\n",
      "96 : Not Prime\n",
      "97 : Prime\n",
      "98 : Not Prime\n",
      "99 : Not Prime\n",
      "100 : Not Prime\n"
     ]
    }
   ],
   "source": [
    "N = 100\n",
    "a = 2\n",
    "while a <= N:\n",
    "    b = 2\n",
    "    c = 0\n",
    "    while b < a:\n",
    "        if a%b == 0:\n",
    "            c += 1\n",
    "            break\n",
    "        b += 1\n",
    "    # print(c)\n",
    "    if c == 0:\n",
    "        print(a,': Prime')\n",
    "    else:\n",
    "        print(a, \": Not Prime\")\n",
    "\n",
    "    a += 1"
   ]
  },
  {
   "cell_type": "code",
   "execution_count": 25,
   "id": "7464b485-4b9a-40ca-90f0-182ed7b727e8",
   "metadata": {},
   "outputs": [
    {
     "name": "stdout",
     "output_type": "stream",
     "text": [
      "5\n"
     ]
    }
   ],
   "source": [
    "N = 12345\n",
    "s = str(N)\n",
    "print(len(s))"
   ]
  },
  {
   "cell_type": "code",
   "execution_count": 26,
   "id": "5995aa70-bfbd-49e1-9b40-96d4f23a8709",
   "metadata": {},
   "outputs": [
    {
     "name": "stdout",
     "output_type": "stream",
     "text": [
      "15\n",
      "5\n"
     ]
    }
   ],
   "source": [
    "num = 12345\n",
    "s = 0\n",
    "c = 0\n",
    "while num > 0:\n",
    "    rem = num%10\n",
    "    s += rem\n",
    "\n",
    "    c += 1\n",
    "\n",
    "    num = num//10\n",
    "\n",
    "print(s)\n",
    "print(c)"
   ]
  },
  {
   "cell_type": "code",
   "execution_count": null,
   "id": "93c09c7d-c501-4bc7-9ea9-58b24fc89f58",
   "metadata": {},
   "outputs": [],
   "source": []
  },
  {
   "cell_type": "code",
   "execution_count": null,
   "id": "fda053b1-5b24-4901-bf7f-eddf609baab8",
   "metadata": {},
   "outputs": [],
   "source": []
  },
  {
   "cell_type": "code",
   "execution_count": null,
   "id": "15b0d48a-b264-473b-bc04-37ee0495dec5",
   "metadata": {},
   "outputs": [],
   "source": []
  },
  {
   "cell_type": "code",
   "execution_count": null,
   "id": "7ccb1340-638a-4b50-9680-f794aacd1d18",
   "metadata": {},
   "outputs": [],
   "source": []
  },
  {
   "cell_type": "code",
   "execution_count": null,
   "id": "9cbeb180-2788-43a4-9a08-1e58130e7692",
   "metadata": {},
   "outputs": [],
   "source": []
  },
  {
   "cell_type": "code",
   "execution_count": null,
   "id": "6fa0df9f-fd42-46ea-a69b-19314b44e1b4",
   "metadata": {},
   "outputs": [],
   "source": []
  }
 ],
 "metadata": {
  "kernelspec": {
   "display_name": "Python 3 (ipykernel)",
   "language": "python",
   "name": "python3"
  },
  "language_info": {
   "codemirror_mode": {
    "name": "ipython",
    "version": 3
   },
   "file_extension": ".py",
   "mimetype": "text/x-python",
   "name": "python",
   "nbconvert_exporter": "python",
   "pygments_lexer": "ipython3",
   "version": "3.12.8"
  }
 },
 "nbformat": 4,
 "nbformat_minor": 5
}
