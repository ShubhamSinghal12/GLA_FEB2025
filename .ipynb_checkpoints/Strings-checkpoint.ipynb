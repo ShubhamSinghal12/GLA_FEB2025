{
 "cells": [
  {
   "cell_type": "markdown",
   "id": "7e8c05a4-8af1-45b2-b303-23668e8adb9b",
   "metadata": {},
   "source": [
    "# Some String Operations\n",
    "- String formatting\n",
    "  - \\+\n",
    "  - %s, %d\n",
    "  - format functions\n",
    "  - f-Strings\n",
    "- strip: Remove white spaces from the string\n",
    "- split\n",
    "- replace: replace all occurances in a string by a new one\n",
    "- count: count the number of occurances of a string within a string"
   ]
  },
  {
   "cell_type": "code",
   "execution_count": 1,
   "id": "b50e93c0-44ff-4e2d-926f-22cf679a3ef7",
   "metadata": {},
   "outputs": [
    {
     "data": {
      "text/plain": [
       "'Hello'"
      ]
     },
     "execution_count": 1,
     "metadata": {},
     "output_type": "execute_result"
    }
   ],
   "source": [
    "st = \"Hello\"\n",
    "st"
   ]
  },
  {
   "cell_type": "code",
   "execution_count": 2,
   "id": "d67b0542-f3de-45f2-accf-b40151b0cbd2",
   "metadata": {},
   "outputs": [
    {
     "data": {
      "text/plain": [
       "['H', 'e', 'l', 'l', 'o']"
      ]
     },
     "execution_count": 2,
     "metadata": {},
     "output_type": "execute_result"
    }
   ],
   "source": [
    "l = list(st)\n",
    "l"
   ]
  },
  {
   "cell_type": "code",
   "execution_count": 4,
   "id": "ed529c3a-30a3-479b-bc40-cce4987d297b",
   "metadata": {},
   "outputs": [
    {
     "data": {
      "text/plain": [
       "('H', 'o')"
      ]
     },
     "execution_count": 4,
     "metadata": {},
     "output_type": "execute_result"
    }
   ],
   "source": [
    "st[0],st[-1]"
   ]
  },
  {
   "cell_type": "code",
   "execution_count": 5,
   "id": "69795888-f751-4c76-a26a-565fbfe76730",
   "metadata": {},
   "outputs": [
    {
     "name": "stdout",
     "output_type": "stream",
     "text": [
      "H\n",
      "e\n",
      "l\n",
      "l\n",
      "o\n"
     ]
    }
   ],
   "source": [
    "for ch in st:\n",
    "    print(ch)"
   ]
  },
  {
   "cell_type": "code",
   "execution_count": 6,
   "id": "6c450e90-73f2-44d6-b6a8-61523d3090b4",
   "metadata": {},
   "outputs": [
    {
     "data": {
      "text/plain": [
       "'el'"
      ]
     },
     "execution_count": 6,
     "metadata": {},
     "output_type": "execute_result"
    }
   ],
   "source": [
    "st[1:3]"
   ]
  },
  {
   "cell_type": "code",
   "execution_count": 7,
   "id": "81d0c74e-7f36-4b22-be3e-8ea5bac26ae8",
   "metadata": {},
   "outputs": [
    {
     "name": "stdout",
     "output_type": "stream",
     "text": [
      "True\n"
     ]
    }
   ],
   "source": [
    "s1 = \"Hello\"\n",
    "s2 = 'Hello'\n",
    "\n",
    "print(s1 == s2)"
   ]
  },
  {
   "cell_type": "code",
   "execution_count": 8,
   "id": "e065ec56-9a24-4092-8fbb-2ab49490b69c",
   "metadata": {},
   "outputs": [
    {
     "name": "stdout",
     "output_type": "stream",
     "text": [
      " This\n",
      "is a Multi\n",
      "Line String\n",
      "\n"
     ]
    }
   ],
   "source": [
    "s1 = \"\"\" This\n",
    "is a Multi\n",
    "Line String\n",
    "\"\"\"\n",
    "print(s1)"
   ]
  },
  {
   "cell_type": "code",
   "execution_count": 9,
   "id": "943b02a3-91f3-4600-b963-f92e777c7ea1",
   "metadata": {},
   "outputs": [
    {
     "data": {
      "text/plain": [
       "' This\\nis a Multi\\nLine String\\n'"
      ]
     },
     "execution_count": 9,
     "metadata": {},
     "output_type": "execute_result"
    }
   ],
   "source": [
    "s1"
   ]
  },
  {
   "cell_type": "code",
   "execution_count": 15,
   "id": "dd8e19b1-709b-4889-a82e-15c35ec2681f",
   "metadata": {},
   "outputs": [
    {
     "name": "stdout",
     "output_type": "stream",
     "text": [
      "My name is: Shubham. My age is: 27\n",
      "My name is: Shubham. My age is: 27\n",
      "My name is: Shubham. My age is: 27\n",
      "My name is: Shubham. My age is: 27\n"
     ]
    }
   ],
   "source": [
    "name = \"Shubham\"\n",
    "age = 27\n",
    "\n",
    "print(\"My name is: \" + name + \". My age is: \" + str(age))\n",
    "print(\"My name is: %s. My age is: %d\"%(name,age))\n",
    "print(\"My name is: {}. My age is: {}\".format(name,age))\n",
    "print(f\"My name is: {name}. My age is: {age}\")"
   ]
  },
  {
   "cell_type": "code",
   "execution_count": 13,
   "id": "28ac0c46-193b-4c58-9ca1-3ed37a75a235",
   "metadata": {},
   "outputs": [
    {
     "name": "stdout",
     "output_type": "stream",
     "text": [
      "My name is: 27. My age is: Shubham\n"
     ]
    }
   ],
   "source": [
    "print(\"My name is: {1}. My age is: {0}\".format(name,age))"
   ]
  },
  {
   "cell_type": "code",
   "execution_count": 14,
   "id": "8d6344ae-dd66-456f-a51f-78fabcc3e4c3",
   "metadata": {},
   "outputs": [
    {
     "name": "stdout",
     "output_type": "stream",
     "text": [
      "My name is: Shubham. My age is: 27\n"
     ]
    }
   ],
   "source": [
    "print(\"My name is: {n}. My age is: {a}\".format(n = name,a = age))"
   ]
  },
  {
   "cell_type": "code",
   "execution_count": 17,
   "id": "fb153608-46d2-419e-ae12-5d223c347542",
   "metadata": {},
   "outputs": [
    {
     "name": "stdout",
     "output_type": "stream",
     "text": [
      "The sky is Blue\n",
      "The sky is Blue   \n",
      "   The sky is Blue\n"
     ]
    }
   ],
   "source": [
    "s = \"   The sky is Blue   \"\n",
    "print(s.strip())\n",
    "print(s.lstrip())\n",
    "print(s.rstrip())"
   ]
  },
  {
   "cell_type": "code",
   "execution_count": 19,
   "id": "7425b59f-83a5-4014-8aca-3e1a809f01ad",
   "metadata": {},
   "outputs": [
    {
     "data": {
      "text/plain": [
       "'Hello'"
      ]
     },
     "execution_count": 19,
     "metadata": {},
     "output_type": "execute_result"
    }
   ],
   "source": [
    "s = \"heLlo\"\n",
    "s.capitalize()"
   ]
  },
  {
   "cell_type": "code",
   "execution_count": 20,
   "id": "62059ec7-57d6-4b24-9f2d-3d25258929d2",
   "metadata": {},
   "outputs": [
    {
     "data": {
      "text/plain": [
       "'hello'"
      ]
     },
     "execution_count": 20,
     "metadata": {},
     "output_type": "execute_result"
    }
   ],
   "source": [
    "s.casefold()"
   ]
  },
  {
   "cell_type": "code",
   "execution_count": 27,
   "id": "1bfa3419-c2e6-4103-b3fb-a8eb644a82cd",
   "metadata": {},
   "outputs": [
    {
     "data": {
      "text/plain": [
       "2"
      ]
     },
     "execution_count": 27,
     "metadata": {},
     "output_type": "execute_result"
    }
   ],
   "source": [
    "s = \"Hellllo\"\n",
    "s.count('ll')"
   ]
  },
  {
   "cell_type": "code",
   "execution_count": 23,
   "id": "aff3999a-250f-4d00-ab61-7e2f0b1bfba1",
   "metadata": {},
   "outputs": [
    {
     "ename": "TypeError",
     "evalue": "'str' object does not support item assignment",
     "output_type": "error",
     "traceback": [
      "\u001b[1;31m---------------------------------------------------------------------------\u001b[0m",
      "\u001b[1;31mTypeError\u001b[0m                                 Traceback (most recent call last)",
      "Cell \u001b[1;32mIn[23], line 1\u001b[0m\n\u001b[1;32m----> 1\u001b[0m \u001b[43ms\u001b[49m\u001b[43m[\u001b[49m\u001b[38;5;241;43m0\u001b[39;49m\u001b[43m]\u001b[49m \u001b[38;5;241m=\u001b[39m \u001b[38;5;124m'\u001b[39m\u001b[38;5;124mA\u001b[39m\u001b[38;5;124m'\u001b[39m\n",
      "\u001b[1;31mTypeError\u001b[0m: 'str' object does not support item assignment"
     ]
    }
   ],
   "source": [
    "s[0] = 'A'"
   ]
  },
  {
   "cell_type": "code",
   "execution_count": 31,
   "id": "fee7b838-03ec-47d8-b1df-5fbcccc998df",
   "metadata": {},
   "outputs": [
    {
     "data": {
      "text/plain": [
       "-1"
      ]
     },
     "execution_count": 31,
     "metadata": {},
     "output_type": "execute_result"
    }
   ],
   "source": [
    "s.find('llol')"
   ]
  },
  {
   "cell_type": "code",
   "execution_count": 33,
   "id": "ee2f1629-d0d0-4703-88a3-b23d02a7f336",
   "metadata": {},
   "outputs": [
    {
     "ename": "ValueError",
     "evalue": "substring not found",
     "output_type": "error",
     "traceback": [
      "\u001b[1;31m---------------------------------------------------------------------------\u001b[0m",
      "\u001b[1;31mValueError\u001b[0m                                Traceback (most recent call last)",
      "Cell \u001b[1;32mIn[33], line 1\u001b[0m\n\u001b[1;32m----> 1\u001b[0m \u001b[43ms\u001b[49m\u001b[38;5;241;43m.\u001b[39;49m\u001b[43mindex\u001b[49m\u001b[43m(\u001b[49m\u001b[38;5;124;43m'\u001b[39;49m\u001b[38;5;124;43moo\u001b[39;49m\u001b[38;5;124;43m'\u001b[39;49m\u001b[43m)\u001b[49m\n",
      "\u001b[1;31mValueError\u001b[0m: substring not found"
     ]
    }
   ],
   "source": [
    "s.index('oo')"
   ]
  },
  {
   "cell_type": "code",
   "execution_count": 34,
   "id": "79b4d2a8-962e-447a-ae87-ec14d929ecdf",
   "metadata": {},
   "outputs": [],
   "source": [
    "s = \"The sky is Blue\""
   ]
  },
  {
   "cell_type": "code",
   "execution_count": 39,
   "id": "d99e0372-4b7f-44c0-9bb5-9e8a42a2abf8",
   "metadata": {},
   "outputs": [],
   "source": [
    "l = s.split(' ')"
   ]
  },
  {
   "cell_type": "code",
   "execution_count": 37,
   "id": "83b4eed0-648f-4997-b73b-f6bce1dfc0cb",
   "metadata": {},
   "outputs": [
    {
     "data": {
      "text/plain": [
       "'The Sky Is Blue'"
      ]
     },
     "execution_count": 37,
     "metadata": {},
     "output_type": "execute_result"
    }
   ],
   "source": [
    "s.title()"
   ]
  },
  {
   "cell_type": "code",
   "execution_count": 46,
   "id": "363223d8-afab-4589-ae82-46470a0a6627",
   "metadata": {},
   "outputs": [
    {
     "data": {
      "text/plain": [
       "'1X2X3X4X5X6X7X8X9'"
      ]
     },
     "execution_count": 46,
     "metadata": {},
     "output_type": "execute_result"
    }
   ],
   "source": [
    "'X'.join([str(i) for i in range(1,10)])"
   ]
  },
  {
   "cell_type": "code",
   "execution_count": null,
   "id": "86253f79-eb7b-49a4-b050-e7e483009d9e",
   "metadata": {},
   "outputs": [],
   "source": []
  }
 ],
 "metadata": {
  "kernelspec": {
   "display_name": "Python 3 (ipykernel)",
   "language": "python",
   "name": "python3"
  },
  "language_info": {
   "codemirror_mode": {
    "name": "ipython",
    "version": 3
   },
   "file_extension": ".py",
   "mimetype": "text/x-python",
   "name": "python",
   "nbconvert_exporter": "python",
   "pygments_lexer": "ipython3",
   "version": "3.12.8"
  }
 },
 "nbformat": 4,
 "nbformat_minor": 5
}
